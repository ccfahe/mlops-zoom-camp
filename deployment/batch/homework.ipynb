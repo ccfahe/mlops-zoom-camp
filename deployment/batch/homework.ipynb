{
  "cells": [
    {
      "cell_type": "code",
      "execution_count": 1,
      "metadata": {
        "id": "ioZJq5L86gXs"
      },
      "outputs": [],
      "source": [
        "import pickle\n",
        "import pandas as pd\n",
        "import sklearn"
      ]
    },
    {
      "cell_type": "code",
      "execution_count": 3,
      "metadata": {
        "colab": {
          "base_uri": "https://localhost:8080/"
        },
        "id": "Gs0s4ZYZ6sBq",
        "outputId": "f67e9214-8225-47d5-c649-452aa56ee109"
      },
      "outputs": [
        {
          "name": "stdout",
          "output_type": "stream",
          "text": [
            "--2025-05-21 12:56:44--  https://d37ci6vzurychx.cloudfront.net/trip-data/yellow_tripdata_2023-03.parquet\n",
            "Resolving d37ci6vzurychx.cloudfront.net (d37ci6vzurychx.cloudfront.net)... 3.166.165.72, 3.166.165.194, 3.166.165.219, ...\n",
            "Connecting to d37ci6vzurychx.cloudfront.net (d37ci6vzurychx.cloudfront.net)|3.166.165.72|:443... connected.\n",
            "HTTP request sent, awaiting response... 200 OK\n",
            "Length: 56127762 (54M) [binary/octet-stream]\n",
            "Saving to: ‘data/yellow_tripdata_2023-03.parquet’\n",
            "\n",
            "yellow_tripdata_202 100%[===================>]  53.53M  75.7MB/s    in 0.7s    \n",
            "\n",
            "2025-05-21 12:56:45 (75.7 MB/s) - ‘data/yellow_tripdata_2023-03.parquet’ saved [56127762/56127762]\n",
            "\n"
          ]
        }
      ],
      "source": [
        "!wget -P data https://d37ci6vzurychx.cloudfront.net/trip-data/yellow_tripdata_2023-03.parquet"
      ]
    },
    {
      "cell_type": "code",
      "execution_count": 8,
      "metadata": {
        "id": "3P6jUbFp6r_a"
      },
      "outputs": [],
      "source": [
        "year = 2023\n",
        "month = 3\n",
        "taxi_type = 'yellow'\n",
        "\n",
        "input_file = f'data/yellow_tripdata_2023-03.parquet'\n",
        "output_file = f'output/{taxi_type}/{year:04d}-{month:02d}.parquet'\n"
      ]
    },
    {
      "cell_type": "code",
      "execution_count": 18,
      "metadata": {
        "id": "IO4GN76E6r8h"
      },
      "outputs": [],
      "source": [
        "!mkdir -p output/yellow"
      ]
    },
    {
      "cell_type": "code",
      "execution_count": 9,
      "metadata": {
        "colab": {
          "base_uri": "https://localhost:8080/"
        },
        "id": "OTt1_INc6r54",
        "outputId": "08c8ec4a-2452-4913-bd52-85f0a7b10f4b"
      },
      "outputs": [
        {
          "name": "stderr",
          "output_type": "stream",
          "text": [
            "/usr/local/lib/python3.11/dist-packages/sklearn/base.py:380: InconsistentVersionWarning: Trying to unpickle estimator DictVectorizer from version 1.5.0 when using version 1.6.1. This might lead to breaking code or invalid results. Use at your own risk. For more info please refer to:\n",
            "https://scikit-learn.org/stable/model_persistence.html#security-maintainability-limitations\n",
            "  warnings.warn(\n",
            "/usr/local/lib/python3.11/dist-packages/sklearn/base.py:380: InconsistentVersionWarning: Trying to unpickle estimator LinearRegression from version 1.5.0 when using version 1.6.1. This might lead to breaking code or invalid results. Use at your own risk. For more info please refer to:\n",
            "https://scikit-learn.org/stable/model_persistence.html#security-maintainability-limitations\n",
            "  warnings.warn(\n"
          ]
        }
      ],
      "source": [
        "with open('model/model.bin', 'rb') as f_in:\n",
        "    dv, lr = pickle.load(f_in)"
      ]
    },
    {
      "cell_type": "code",
      "execution_count": 10,
      "metadata": {
        "id": "CJsR4VXp6r3L"
      },
      "outputs": [],
      "source": [
        "categorical = ['PULocationID', 'DOLocationID']\n",
        "\n",
        "def read_data(filename):\n",
        "    df = pd.read_parquet(filename)\n",
        "\n",
        "    df['duration'] = df.tpep_dropoff_datetime - df.tpep_pickup_datetime\n",
        "    df['duration'] = df.duration.dt.total_seconds() / 60\n",
        "\n",
        "    df = df[(df.duration >= 1) & (df.duration <= 60)].copy()\n",
        "\n",
        "    df[categorical] = df[categorical].fillna(-1).astype('int').astype('str')\n",
        "\n",
        "    return df"
      ]
    },
    {
      "cell_type": "code",
      "execution_count": 7,
      "metadata": {
        "id": "w2nFIiqJ6lhj"
      },
      "outputs": [],
      "source": [
        "!mkdir model"
      ]
    },
    {
      "cell_type": "code",
      "execution_count": 11,
      "metadata": {
        "id": "ctpt6cky70X4"
      },
      "outputs": [],
      "source": [
        "df = read_data(input_file)\n",
        "df['ride_id'] = f'{year:04d}/{month:02d}_' + df.index.astype('str')"
      ]
    },
    {
      "cell_type": "code",
      "execution_count": 12,
      "metadata": {
        "colab": {
          "base_uri": "https://localhost:8080/",
          "height": 255
        },
        "id": "ZNcLRH_J70cF",
        "outputId": "2ec80f34-fd28-4801-e8f1-539e2bc5a13c"
      },
      "outputs": [
        {
          "data": {
            "application/vnd.google.colaboratory.intrinsic+json": {
              "type": "dataframe",
              "variable_name": "df"
            },
            "text/html": [
              "\n",
              "  <div id=\"df-af51b1fe-b5c9-4458-9c80-6fc67843e2d9\" class=\"colab-df-container\">\n",
              "    <div>\n",
              "<style scoped>\n",
              "    .dataframe tbody tr th:only-of-type {\n",
              "        vertical-align: middle;\n",
              "    }\n",
              "\n",
              "    .dataframe tbody tr th {\n",
              "        vertical-align: top;\n",
              "    }\n",
              "\n",
              "    .dataframe thead th {\n",
              "        text-align: right;\n",
              "    }\n",
              "</style>\n",
              "<table border=\"1\" class=\"dataframe\">\n",
              "  <thead>\n",
              "    <tr style=\"text-align: right;\">\n",
              "      <th></th>\n",
              "      <th>VendorID</th>\n",
              "      <th>tpep_pickup_datetime</th>\n",
              "      <th>tpep_dropoff_datetime</th>\n",
              "      <th>passenger_count</th>\n",
              "      <th>trip_distance</th>\n",
              "      <th>RatecodeID</th>\n",
              "      <th>store_and_fwd_flag</th>\n",
              "      <th>PULocationID</th>\n",
              "      <th>DOLocationID</th>\n",
              "      <th>payment_type</th>\n",
              "      <th>...</th>\n",
              "      <th>extra</th>\n",
              "      <th>mta_tax</th>\n",
              "      <th>tip_amount</th>\n",
              "      <th>tolls_amount</th>\n",
              "      <th>improvement_surcharge</th>\n",
              "      <th>total_amount</th>\n",
              "      <th>congestion_surcharge</th>\n",
              "      <th>Airport_fee</th>\n",
              "      <th>duration</th>\n",
              "      <th>ride_id</th>\n",
              "    </tr>\n",
              "  </thead>\n",
              "  <tbody>\n",
              "    <tr>\n",
              "      <th>0</th>\n",
              "      <td>2</td>\n",
              "      <td>2023-03-01 00:06:43</td>\n",
              "      <td>2023-03-01 00:16:43</td>\n",
              "      <td>1.0</td>\n",
              "      <td>0.00</td>\n",
              "      <td>1.0</td>\n",
              "      <td>N</td>\n",
              "      <td>238</td>\n",
              "      <td>42</td>\n",
              "      <td>2</td>\n",
              "      <td>...</td>\n",
              "      <td>1.0</td>\n",
              "      <td>0.5</td>\n",
              "      <td>0.00</td>\n",
              "      <td>0.0</td>\n",
              "      <td>1.0</td>\n",
              "      <td>11.10</td>\n",
              "      <td>0.0</td>\n",
              "      <td>0.00</td>\n",
              "      <td>10.000000</td>\n",
              "      <td>2023/03_0</td>\n",
              "    </tr>\n",
              "    <tr>\n",
              "      <th>1</th>\n",
              "      <td>2</td>\n",
              "      <td>2023-03-01 00:08:25</td>\n",
              "      <td>2023-03-01 00:39:30</td>\n",
              "      <td>2.0</td>\n",
              "      <td>12.40</td>\n",
              "      <td>1.0</td>\n",
              "      <td>N</td>\n",
              "      <td>138</td>\n",
              "      <td>231</td>\n",
              "      <td>1</td>\n",
              "      <td>...</td>\n",
              "      <td>6.0</td>\n",
              "      <td>0.5</td>\n",
              "      <td>12.54</td>\n",
              "      <td>0.0</td>\n",
              "      <td>1.0</td>\n",
              "      <td>76.49</td>\n",
              "      <td>2.5</td>\n",
              "      <td>1.25</td>\n",
              "      <td>31.083333</td>\n",
              "      <td>2023/03_1</td>\n",
              "    </tr>\n",
              "    <tr>\n",
              "      <th>2</th>\n",
              "      <td>1</td>\n",
              "      <td>2023-03-01 00:15:04</td>\n",
              "      <td>2023-03-01 00:29:26</td>\n",
              "      <td>0.0</td>\n",
              "      <td>3.30</td>\n",
              "      <td>1.0</td>\n",
              "      <td>N</td>\n",
              "      <td>140</td>\n",
              "      <td>186</td>\n",
              "      <td>1</td>\n",
              "      <td>...</td>\n",
              "      <td>3.5</td>\n",
              "      <td>0.5</td>\n",
              "      <td>4.65</td>\n",
              "      <td>0.0</td>\n",
              "      <td>1.0</td>\n",
              "      <td>28.05</td>\n",
              "      <td>2.5</td>\n",
              "      <td>0.00</td>\n",
              "      <td>14.366667</td>\n",
              "      <td>2023/03_2</td>\n",
              "    </tr>\n",
              "    <tr>\n",
              "      <th>3</th>\n",
              "      <td>1</td>\n",
              "      <td>2023-03-01 00:49:37</td>\n",
              "      <td>2023-03-01 01:01:05</td>\n",
              "      <td>1.0</td>\n",
              "      <td>2.90</td>\n",
              "      <td>1.0</td>\n",
              "      <td>N</td>\n",
              "      <td>140</td>\n",
              "      <td>43</td>\n",
              "      <td>1</td>\n",
              "      <td>...</td>\n",
              "      <td>3.5</td>\n",
              "      <td>0.5</td>\n",
              "      <td>4.10</td>\n",
              "      <td>0.0</td>\n",
              "      <td>1.0</td>\n",
              "      <td>24.70</td>\n",
              "      <td>2.5</td>\n",
              "      <td>0.00</td>\n",
              "      <td>11.466667</td>\n",
              "      <td>2023/03_3</td>\n",
              "    </tr>\n",
              "    <tr>\n",
              "      <th>4</th>\n",
              "      <td>2</td>\n",
              "      <td>2023-03-01 00:08:04</td>\n",
              "      <td>2023-03-01 00:11:06</td>\n",
              "      <td>1.0</td>\n",
              "      <td>1.23</td>\n",
              "      <td>1.0</td>\n",
              "      <td>N</td>\n",
              "      <td>79</td>\n",
              "      <td>137</td>\n",
              "      <td>1</td>\n",
              "      <td>...</td>\n",
              "      <td>1.0</td>\n",
              "      <td>0.5</td>\n",
              "      <td>2.44</td>\n",
              "      <td>0.0</td>\n",
              "      <td>1.0</td>\n",
              "      <td>14.64</td>\n",
              "      <td>2.5</td>\n",
              "      <td>0.00</td>\n",
              "      <td>3.033333</td>\n",
              "      <td>2023/03_4</td>\n",
              "    </tr>\n",
              "  </tbody>\n",
              "</table>\n",
              "<p>5 rows × 21 columns</p>\n",
              "</div>\n",
              "    <div class=\"colab-df-buttons\">\n",
              "\n",
              "  <div class=\"colab-df-container\">\n",
              "    <button class=\"colab-df-convert\" onclick=\"convertToInteractive('df-af51b1fe-b5c9-4458-9c80-6fc67843e2d9')\"\n",
              "            title=\"Convert this dataframe to an interactive table.\"\n",
              "            style=\"display:none;\">\n",
              "\n",
              "  <svg xmlns=\"http://www.w3.org/2000/svg\" height=\"24px\" viewBox=\"0 -960 960 960\">\n",
              "    <path d=\"M120-120v-720h720v720H120Zm60-500h600v-160H180v160Zm220 220h160v-160H400v160Zm0 220h160v-160H400v160ZM180-400h160v-160H180v160Zm440 0h160v-160H620v160ZM180-180h160v-160H180v160Zm440 0h160v-160H620v160Z\"/>\n",
              "  </svg>\n",
              "    </button>\n",
              "\n",
              "  <style>\n",
              "    .colab-df-container {\n",
              "      display:flex;\n",
              "      gap: 12px;\n",
              "    }\n",
              "\n",
              "    .colab-df-convert {\n",
              "      background-color: #E8F0FE;\n",
              "      border: none;\n",
              "      border-radius: 50%;\n",
              "      cursor: pointer;\n",
              "      display: none;\n",
              "      fill: #1967D2;\n",
              "      height: 32px;\n",
              "      padding: 0 0 0 0;\n",
              "      width: 32px;\n",
              "    }\n",
              "\n",
              "    .colab-df-convert:hover {\n",
              "      background-color: #E2EBFA;\n",
              "      box-shadow: 0px 1px 2px rgba(60, 64, 67, 0.3), 0px 1px 3px 1px rgba(60, 64, 67, 0.15);\n",
              "      fill: #174EA6;\n",
              "    }\n",
              "\n",
              "    .colab-df-buttons div {\n",
              "      margin-bottom: 4px;\n",
              "    }\n",
              "\n",
              "    [theme=dark] .colab-df-convert {\n",
              "      background-color: #3B4455;\n",
              "      fill: #D2E3FC;\n",
              "    }\n",
              "\n",
              "    [theme=dark] .colab-df-convert:hover {\n",
              "      background-color: #434B5C;\n",
              "      box-shadow: 0px 1px 3px 1px rgba(0, 0, 0, 0.15);\n",
              "      filter: drop-shadow(0px 1px 2px rgba(0, 0, 0, 0.3));\n",
              "      fill: #FFFFFF;\n",
              "    }\n",
              "  </style>\n",
              "\n",
              "    <script>\n",
              "      const buttonEl =\n",
              "        document.querySelector('#df-af51b1fe-b5c9-4458-9c80-6fc67843e2d9 button.colab-df-convert');\n",
              "      buttonEl.style.display =\n",
              "        google.colab.kernel.accessAllowed ? 'block' : 'none';\n",
              "\n",
              "      async function convertToInteractive(key) {\n",
              "        const element = document.querySelector('#df-af51b1fe-b5c9-4458-9c80-6fc67843e2d9');\n",
              "        const dataTable =\n",
              "          await google.colab.kernel.invokeFunction('convertToInteractive',\n",
              "                                                    [key], {});\n",
              "        if (!dataTable) return;\n",
              "\n",
              "        const docLinkHtml = 'Like what you see? Visit the ' +\n",
              "          '<a target=\"_blank\" href=https://colab.research.google.com/notebooks/data_table.ipynb>data table notebook</a>'\n",
              "          + ' to learn more about interactive tables.';\n",
              "        element.innerHTML = '';\n",
              "        dataTable['output_type'] = 'display_data';\n",
              "        await google.colab.output.renderOutput(dataTable, element);\n",
              "        const docLink = document.createElement('div');\n",
              "        docLink.innerHTML = docLinkHtml;\n",
              "        element.appendChild(docLink);\n",
              "      }\n",
              "    </script>\n",
              "  </div>\n",
              "\n",
              "\n",
              "    <div id=\"df-9e88bcd2-bee6-47d8-b5cd-3d400bb1aa8e\">\n",
              "      <button class=\"colab-df-quickchart\" onclick=\"quickchart('df-9e88bcd2-bee6-47d8-b5cd-3d400bb1aa8e')\"\n",
              "                title=\"Suggest charts\"\n",
              "                style=\"display:none;\">\n",
              "\n",
              "<svg xmlns=\"http://www.w3.org/2000/svg\" height=\"24px\"viewBox=\"0 0 24 24\"\n",
              "     width=\"24px\">\n",
              "    <g>\n",
              "        <path d=\"M19 3H5c-1.1 0-2 .9-2 2v14c0 1.1.9 2 2 2h14c1.1 0 2-.9 2-2V5c0-1.1-.9-2-2-2zM9 17H7v-7h2v7zm4 0h-2V7h2v10zm4 0h-2v-4h2v4z\"/>\n",
              "    </g>\n",
              "</svg>\n",
              "      </button>\n",
              "\n",
              "<style>\n",
              "  .colab-df-quickchart {\n",
              "      --bg-color: #E8F0FE;\n",
              "      --fill-color: #1967D2;\n",
              "      --hover-bg-color: #E2EBFA;\n",
              "      --hover-fill-color: #174EA6;\n",
              "      --disabled-fill-color: #AAA;\n",
              "      --disabled-bg-color: #DDD;\n",
              "  }\n",
              "\n",
              "  [theme=dark] .colab-df-quickchart {\n",
              "      --bg-color: #3B4455;\n",
              "      --fill-color: #D2E3FC;\n",
              "      --hover-bg-color: #434B5C;\n",
              "      --hover-fill-color: #FFFFFF;\n",
              "      --disabled-bg-color: #3B4455;\n",
              "      --disabled-fill-color: #666;\n",
              "  }\n",
              "\n",
              "  .colab-df-quickchart {\n",
              "    background-color: var(--bg-color);\n",
              "    border: none;\n",
              "    border-radius: 50%;\n",
              "    cursor: pointer;\n",
              "    display: none;\n",
              "    fill: var(--fill-color);\n",
              "    height: 32px;\n",
              "    padding: 0;\n",
              "    width: 32px;\n",
              "  }\n",
              "\n",
              "  .colab-df-quickchart:hover {\n",
              "    background-color: var(--hover-bg-color);\n",
              "    box-shadow: 0 1px 2px rgba(60, 64, 67, 0.3), 0 1px 3px 1px rgba(60, 64, 67, 0.15);\n",
              "    fill: var(--button-hover-fill-color);\n",
              "  }\n",
              "\n",
              "  .colab-df-quickchart-complete:disabled,\n",
              "  .colab-df-quickchart-complete:disabled:hover {\n",
              "    background-color: var(--disabled-bg-color);\n",
              "    fill: var(--disabled-fill-color);\n",
              "    box-shadow: none;\n",
              "  }\n",
              "\n",
              "  .colab-df-spinner {\n",
              "    border: 2px solid var(--fill-color);\n",
              "    border-color: transparent;\n",
              "    border-bottom-color: var(--fill-color);\n",
              "    animation:\n",
              "      spin 1s steps(1) infinite;\n",
              "  }\n",
              "\n",
              "  @keyframes spin {\n",
              "    0% {\n",
              "      border-color: transparent;\n",
              "      border-bottom-color: var(--fill-color);\n",
              "      border-left-color: var(--fill-color);\n",
              "    }\n",
              "    20% {\n",
              "      border-color: transparent;\n",
              "      border-left-color: var(--fill-color);\n",
              "      border-top-color: var(--fill-color);\n",
              "    }\n",
              "    30% {\n",
              "      border-color: transparent;\n",
              "      border-left-color: var(--fill-color);\n",
              "      border-top-color: var(--fill-color);\n",
              "      border-right-color: var(--fill-color);\n",
              "    }\n",
              "    40% {\n",
              "      border-color: transparent;\n",
              "      border-right-color: var(--fill-color);\n",
              "      border-top-color: var(--fill-color);\n",
              "    }\n",
              "    60% {\n",
              "      border-color: transparent;\n",
              "      border-right-color: var(--fill-color);\n",
              "    }\n",
              "    80% {\n",
              "      border-color: transparent;\n",
              "      border-right-color: var(--fill-color);\n",
              "      border-bottom-color: var(--fill-color);\n",
              "    }\n",
              "    90% {\n",
              "      border-color: transparent;\n",
              "      border-bottom-color: var(--fill-color);\n",
              "    }\n",
              "  }\n",
              "</style>\n",
              "\n",
              "      <script>\n",
              "        async function quickchart(key) {\n",
              "          const quickchartButtonEl =\n",
              "            document.querySelector('#' + key + ' button');\n",
              "          quickchartButtonEl.disabled = true;  // To prevent multiple clicks.\n",
              "          quickchartButtonEl.classList.add('colab-df-spinner');\n",
              "          try {\n",
              "            const charts = await google.colab.kernel.invokeFunction(\n",
              "                'suggestCharts', [key], {});\n",
              "          } catch (error) {\n",
              "            console.error('Error during call to suggestCharts:', error);\n",
              "          }\n",
              "          quickchartButtonEl.classList.remove('colab-df-spinner');\n",
              "          quickchartButtonEl.classList.add('colab-df-quickchart-complete');\n",
              "        }\n",
              "        (() => {\n",
              "          let quickchartButtonEl =\n",
              "            document.querySelector('#df-9e88bcd2-bee6-47d8-b5cd-3d400bb1aa8e button');\n",
              "          quickchartButtonEl.style.display =\n",
              "            google.colab.kernel.accessAllowed ? 'block' : 'none';\n",
              "        })();\n",
              "      </script>\n",
              "    </div>\n",
              "\n",
              "    </div>\n",
              "  </div>\n"
            ],
            "text/plain": [
              "   VendorID tpep_pickup_datetime tpep_dropoff_datetime  passenger_count  \\\n",
              "0         2  2023-03-01 00:06:43   2023-03-01 00:16:43              1.0   \n",
              "1         2  2023-03-01 00:08:25   2023-03-01 00:39:30              2.0   \n",
              "2         1  2023-03-01 00:15:04   2023-03-01 00:29:26              0.0   \n",
              "3         1  2023-03-01 00:49:37   2023-03-01 01:01:05              1.0   \n",
              "4         2  2023-03-01 00:08:04   2023-03-01 00:11:06              1.0   \n",
              "\n",
              "   trip_distance  RatecodeID store_and_fwd_flag PULocationID DOLocationID  \\\n",
              "0           0.00         1.0                  N          238           42   \n",
              "1          12.40         1.0                  N          138          231   \n",
              "2           3.30         1.0                  N          140          186   \n",
              "3           2.90         1.0                  N          140           43   \n",
              "4           1.23         1.0                  N           79          137   \n",
              "\n",
              "   payment_type  ...  extra  mta_tax  tip_amount  tolls_amount  \\\n",
              "0             2  ...    1.0      0.5        0.00           0.0   \n",
              "1             1  ...    6.0      0.5       12.54           0.0   \n",
              "2             1  ...    3.5      0.5        4.65           0.0   \n",
              "3             1  ...    3.5      0.5        4.10           0.0   \n",
              "4             1  ...    1.0      0.5        2.44           0.0   \n",
              "\n",
              "   improvement_surcharge  total_amount  congestion_surcharge  Airport_fee  \\\n",
              "0                    1.0         11.10                   0.0         0.00   \n",
              "1                    1.0         76.49                   2.5         1.25   \n",
              "2                    1.0         28.05                   2.5         0.00   \n",
              "3                    1.0         24.70                   2.5         0.00   \n",
              "4                    1.0         14.64                   2.5         0.00   \n",
              "\n",
              "    duration    ride_id  \n",
              "0  10.000000  2023/03_0  \n",
              "1  31.083333  2023/03_1  \n",
              "2  14.366667  2023/03_2  \n",
              "3  11.466667  2023/03_3  \n",
              "4   3.033333  2023/03_4  \n",
              "\n",
              "[5 rows x 21 columns]"
            ]
          },
          "execution_count": 12,
          "metadata": {},
          "output_type": "execute_result"
        }
      ],
      "source": [
        "df.head()"
      ]
    },
    {
      "cell_type": "code",
      "execution_count": 13,
      "metadata": {
        "id": "q7UeLSof74hu"
      },
      "outputs": [],
      "source": [
        "dicts = df[categorical].to_dict(orient='records')\n",
        "X_val = dv.transform(dicts)\n",
        "y_pred = lr.predict(X_val)"
      ]
    },
    {
      "cell_type": "code",
      "execution_count": null,
      "metadata": {
        "id": "TKGnqieP74kd"
      },
      "outputs": [],
      "source": [
        "y_pred"
      ]
    },
    {
      "cell_type": "markdown",
      "metadata": {
        "id": "gj-lxYU_78dk"
      },
      "source": [
        "# Q1 Standard Deviation"
      ]
    },
    {
      "cell_type": "code",
      "execution_count": 14,
      "metadata": {
        "colab": {
          "base_uri": "https://localhost:8080/"
        },
        "id": "FclGGMSb74nD",
        "outputId": "81313399-697f-4145-f908-9fb4a4cfd282"
      },
      "outputs": [
        {
          "data": {
            "text/plain": [
              "np.float64(6.247488852238703)"
            ]
          },
          "execution_count": 14,
          "metadata": {},
          "output_type": "execute_result"
        }
      ],
      "source": [
        "y_pred.std()"
      ]
    },
    {
      "cell_type": "markdown",
      "metadata": {
        "id": "5Y_I2h2H_QJp"
      },
      "source": [
        "# Q2. Preparing the output"
      ]
    },
    {
      "cell_type": "code",
      "execution_count": 15,
      "metadata": {
        "id": "g58PQO1A8Htw"
      },
      "outputs": [],
      "source": [
        "df_result = pd.DataFrame()\n",
        "df_result['ride_id'] = df['ride_id']\n",
        "df_result['predicted_duration'] = y_pred"
      ]
    },
    {
      "cell_type": "code",
      "execution_count": 19,
      "metadata": {
        "id": "YP7SUa4R-KYh"
      },
      "outputs": [],
      "source": [
        "df_result.to_parquet(\n",
        "    output_file,\n",
        "    engine='pyarrow',\n",
        "    compression=None,\n",
        "    index=False\n",
        ")"
      ]
    },
    {
      "cell_type": "code",
      "execution_count": 21,
      "metadata": {
        "colab": {
          "base_uri": "https://localhost:8080/"
        },
        "id": "iLjesPhQ8M_9",
        "outputId": "994624b8-0ea6-49a8-a8af-4194a183f4bc"
      },
      "outputs": [
        {
          "name": "stdout",
          "output_type": "stream",
          "text": [
            "total 66M\n",
            "-rw-r--r-- 1 root root 66M May 21 13:12 2023-03.parquet\n"
          ]
        }
      ],
      "source": [
        "!ls -lh output/yellow"
      ]
    },
    {
      "cell_type": "markdown",
      "metadata": {},
      "source": [
        "# Q3. Creating the scoring script\n",
        "jupyter nbconvert --to script homework.ipynb"
      ]
    },
    {
      "cell_type": "markdown",
      "metadata": {},
      "source": [
        "# Q4. Virtual environment"
      ]
    },
    {
      "cell_type": "code",
      "execution_count": null,
      "metadata": {},
      "outputs": [],
      "source": [
        "\"scikit-learn\": {\n",
        "            \"hashes\": [\n",
        "                \"sha256:08ef968f6b72033c16c479c966bf37ccd49b06ea91b765e1cc27afefe723920b\","
      ]
    },
    {
      "cell_type": "markdown",
      "metadata": {},
      "source": [
        "Q5. Parametrize the script"
      ]
    }
  ],
  "metadata": {
    "colab": {
      "provenance": []
    },
    "kernelspec": {
      "display_name": "Python 3",
      "name": "python3"
    },
    "language_info": {
      "codemirror_mode": {
        "name": "ipython",
        "version": 3
      },
      "file_extension": ".py",
      "mimetype": "text/x-python",
      "name": "python",
      "nbconvert_exporter": "python",
      "pygments_lexer": "ipython3",
      "version": "3.9.21"
    }
  },
  "nbformat": 4,
  "nbformat_minor": 0
}
