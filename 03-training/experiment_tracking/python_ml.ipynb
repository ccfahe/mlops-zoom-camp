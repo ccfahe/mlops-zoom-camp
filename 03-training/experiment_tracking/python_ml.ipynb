{
 "cells": [
  {
   "cell_type": "code",
   "execution_count": 1,
   "id": "4d19b7f7",
   "metadata": {},
   "outputs": [],
   "source": [
    "from mlflow.tracking import MlflowClient\n",
    "MLFLOW_SET_TRACKING_URI = \"http://127.0.0.1:5000\"\n",
    "client = MlflowClient(tracking_uri=MLFLOW_SET_TRACKING_URI)"
   ]
  },
  {
   "cell_type": "code",
   "execution_count": 5,
   "id": "bb94b071",
   "metadata": {},
   "outputs": [
    {
     "data": {
      "text/plain": [
       "[<Experiment: artifact_location='/workspaces/mlops-zoom-camp/03-training/experiment_tracking/mlruns/1', creation_time=1746683774913, experiment_id='1', last_update_time=1746683774913, lifecycle_stage='active', name='ny-taxi-experiment', tags={}>,\n",
       " <Experiment: artifact_location='/workspaces/mlops-zoom-camp/03-training/experiment_tracking/mlruns/0', creation_time=1746683599358, experiment_id='0', last_update_time=1746683599358, lifecycle_stage='active', name='Default', tags={}>]"
      ]
     },
     "execution_count": 5,
     "metadata": {},
     "output_type": "execute_result"
    }
   ],
   "source": [
    "client.search_experiments()"
   ]
  },
  {
   "cell_type": "code",
   "execution_count": 6,
   "id": "0157153a",
   "metadata": {},
   "outputs": [
    {
     "data": {
      "text/plain": [
       "'2'"
      ]
     },
     "execution_count": 6,
     "metadata": {},
     "output_type": "execute_result"
    }
   ],
   "source": [
    "client.create_experiment(name=\"my-cool-experiment\")"
   ]
  },
  {
   "cell_type": "code",
   "execution_count": 10,
   "id": "5bcf05f0",
   "metadata": {},
   "outputs": [],
   "source": [
    "#List runs on the basis of top 10 lowes rmse with experiment id 1 that is ny_taxi\n",
    "from mlflow.entities import ViewType\n",
    "\n",
    "runs = client.search_runs(\n",
    "    experiment_ids='1',\n",
    "    filter_string=\"metrics.rmse < 6.8\",\n",
    "    run_view_type=ViewType.ACTIVE_ONLY,\n",
    "     max_results=5,\n",
    "    order_by=[\"metrics.rmse ASC\"] #\n",
    ")"
   ]
  },
  {
   "cell_type": "code",
   "execution_count": 11,
   "id": "39076268",
   "metadata": {},
   "outputs": [
    {
     "data": {
      "text/plain": [
       "[<Run: data=<RunData: metrics={'rmse': 5.809681017912009}, params={'learning_rate': '0.09064205157889488',\n",
       "  'max_depth': '22',\n",
       "  'min_child_weight': '1.0629059550227644',\n",
       "  'objective': 'reg:linear',\n",
       "  'reg_alpha': '0.13507272239403997',\n",
       "  'reg_lambda': '0.01337017283417198',\n",
       "  'seed': '42'}, tags={'developer': 'Shakti',\n",
       "  'mlflow.runName': 'blushing-gnat-647',\n",
       "  'mlflow.source.name': '/home/codespace/anaconda3/envs/exp-tracking-env/lib/python3.9/site-packages/ipykernel_launcher.py',\n",
       "  'mlflow.source.type': 'LOCAL',\n",
       "  'mlflow.user': 'codespace',\n",
       "  'model': 'xgboost'}>, info=<RunInfo: artifact_uri='/workspaces/mlops-zoom-camp/03-training/experiment_tracking/mlruns/1/bad7bfb0e73340a6bd111039cdfd4375/artifacts', end_time=1746811838007, experiment_id='1', lifecycle_stage='active', run_id='bad7bfb0e73340a6bd111039cdfd4375', run_name='blushing-gnat-647', run_uuid='bad7bfb0e73340a6bd111039cdfd4375', start_time=1746811700264, status='FINISHED', user_id='codespace'>, inputs=<RunInputs: dataset_inputs=[]>>,\n",
       " <Run: data=<RunData: metrics={'rmse': 5.811945965827671}, params={'learning_rate': '0.06530157574504299',\n",
       "  'max_depth': '26',\n",
       "  'min_child_weight': '1.7234370765808154',\n",
       "  'objective': 'reg:linear',\n",
       "  'reg_alpha': '0.10375531475999546',\n",
       "  'reg_lambda': '0.08564649984704946',\n",
       "  'seed': '42'}, tags={'developer': 'Shakti',\n",
       "  'mlflow.runName': 'blushing-hawk-600',\n",
       "  'mlflow.source.name': '/home/codespace/anaconda3/envs/exp-tracking-env/lib/python3.9/site-packages/ipykernel_launcher.py',\n",
       "  'mlflow.source.type': 'LOCAL',\n",
       "  'mlflow.user': 'codespace',\n",
       "  'model': 'xgboost'}>, info=<RunInfo: artifact_uri='/workspaces/mlops-zoom-camp/03-training/experiment_tracking/mlruns/1/022ccf19e9f244548dfe3e4571551726/artifacts', end_time=1746808893081, experiment_id='1', lifecycle_stage='active', run_id='022ccf19e9f244548dfe3e4571551726', run_name='blushing-hawk-600', run_uuid='022ccf19e9f244548dfe3e4571551726', start_time=1746808736218, status='FINISHED', user_id='codespace'>, inputs=<RunInputs: dataset_inputs=[]>>,\n",
       " <Run: data=<RunData: metrics={'rmse': 5.81408102863006}, params={'learning_rate': '0.12747104928908387',\n",
       "  'max_depth': '25',\n",
       "  'min_child_weight': '1.556279688746999',\n",
       "  'objective': 'reg:linear',\n",
       "  'reg_alpha': '0.051473369859643216',\n",
       "  'reg_lambda': '0.04441658595196359',\n",
       "  'seed': '42'}, tags={'developer': 'Shakti',\n",
       "  'mlflow.runName': 'skillful-dove-180',\n",
       "  'mlflow.source.name': '/home/codespace/anaconda3/envs/exp-tracking-env/lib/python3.9/site-packages/ipykernel_launcher.py',\n",
       "  'mlflow.source.type': 'LOCAL',\n",
       "  'mlflow.user': 'codespace',\n",
       "  'model': 'xgboost'}>, info=<RunInfo: artifact_uri='/workspaces/mlops-zoom-camp/03-training/experiment_tracking/mlruns/1/3d51f711bda342be9ef0b6e36113fddc/artifacts', end_time=1746808430393, experiment_id='1', lifecycle_stage='active', run_id='3d51f711bda342be9ef0b6e36113fddc', run_name='skillful-dove-180', run_uuid='3d51f711bda342be9ef0b6e36113fddc', start_time=1746808324263, status='FINISHED', user_id='codespace'>, inputs=<RunInputs: dataset_inputs=[]>>,\n",
       " <Run: data=<RunData: metrics={'rmse': 5.823596608794607}, params={'learning_rate': '0.31803820414823214',\n",
       "  'max_depth': '17',\n",
       "  'min_child_weight': '1.1436731844588706',\n",
       "  'objective': 'reg:linear',\n",
       "  'reg_alpha': '0.07928168321759547',\n",
       "  'reg_lambda': '0.11826972249410266',\n",
       "  'seed': '42'}, tags={'developer': 'Shakti',\n",
       "  'mlflow.runName': 'chill-cub-102',\n",
       "  'mlflow.source.name': '/home/codespace/anaconda3/envs/exp-tracking-env/lib/python3.9/site-packages/ipykernel_launcher.py',\n",
       "  'mlflow.source.type': 'LOCAL',\n",
       "  'mlflow.user': 'codespace',\n",
       "  'model': 'xgboost'}>, info=<RunInfo: artifact_uri='/workspaces/mlops-zoom-camp/03-training/experiment_tracking/mlruns/1/811b89f631de4672a48ceb8ea0526e40/artifacts', end_time=1746811127662, experiment_id='1', lifecycle_stage='active', run_id='811b89f631de4672a48ceb8ea0526e40', run_name='chill-cub-102', run_uuid='811b89f631de4672a48ceb8ea0526e40', start_time=1746811073784, status='FINISHED', user_id='codespace'>, inputs=<RunInputs: dataset_inputs=[]>>,\n",
       " <Run: data=<RunData: metrics={'rmse': 5.8237198141196025}, params={'learning_rate': '0.15966277234228038',\n",
       "  'max_depth': '34',\n",
       "  'min_child_weight': '1.532217143167126',\n",
       "  'objective': 'reg:linear',\n",
       "  'reg_alpha': '0.0831874859541263',\n",
       "  'reg_lambda': '0.048326281006073495',\n",
       "  'seed': '42'}, tags={'developer': 'Shakti',\n",
       "  'mlflow.runName': 'selective-mole-988',\n",
       "  'mlflow.source.name': '/home/codespace/anaconda3/envs/exp-tracking-env/lib/python3.9/site-packages/ipykernel_launcher.py',\n",
       "  'mlflow.source.type': 'LOCAL',\n",
       "  'mlflow.user': 'codespace',\n",
       "  'model': 'xgboost'}>, info=<RunInfo: artifact_uri='/workspaces/mlops-zoom-camp/03-training/experiment_tracking/mlruns/1/d3a43abd35a04b18b51f096b004e348b/artifacts', end_time=1746809935300, experiment_id='1', lifecycle_stage='active', run_id='d3a43abd35a04b18b51f096b004e348b', run_name='selective-mole-988', run_uuid='d3a43abd35a04b18b51f096b004e348b', start_time=1746809860747, status='FINISHED', user_id='codespace'>, inputs=<RunInputs: dataset_inputs=[]>>]"
      ]
     },
     "execution_count": 11,
     "metadata": {},
     "output_type": "execute_result"
    }
   ],
   "source": [
    "runs"
   ]
  },
  {
   "cell_type": "code",
   "execution_count": 12,
   "id": "30fad909",
   "metadata": {},
   "outputs": [
    {
     "name": "stdout",
     "output_type": "stream",
     "text": [
      "run id: bad7bfb0e73340a6bd111039cdfd4375, rmse: 5.8097\n",
      "run id: 022ccf19e9f244548dfe3e4571551726, rmse: 5.8119\n",
      "run id: 3d51f711bda342be9ef0b6e36113fddc, rmse: 5.8141\n",
      "run id: 811b89f631de4672a48ceb8ea0526e40, rmse: 5.8236\n",
      "run id: d3a43abd35a04b18b51f096b004e348b, rmse: 5.8237\n"
     ]
    }
   ],
   "source": [
    "for run in runs:\n",
    "    print(f\"run id: {run.info.run_id}, rmse: {run.data.metrics['rmse']:.4f}\")"
   ]
  },
  {
   "cell_type": "code",
   "execution_count": 4,
   "id": "be9194ba",
   "metadata": {},
   "outputs": [],
   "source": [
    "import mlflow\n",
    "mlflow.set_tracking_uri(MLFLOW_SET_TRACKING_URI)"
   ]
  },
  {
   "cell_type": "code",
   "execution_count": 5,
   "id": "63517ea5",
   "metadata": {},
   "outputs": [
    {
     "name": "stderr",
     "output_type": "stream",
     "text": [
      "Registered model 'nyc-taxi-regressor' already exists. Creating a new version of this model...\n",
      "2025/05/13 08:34:24 INFO mlflow.store.model_registry.abstract_store: Waiting up to 300 seconds for model version to finish creation. Model name: nyc-taxi-regressor, version 2\n",
      "Created version '2' of model 'nyc-taxi-regressor'.\n"
     ]
    },
    {
     "data": {
      "text/plain": [
       "<ModelVersion: aliases=[], creation_timestamp=1747125264621, current_stage='None', description='', last_updated_timestamp=1747125264621, name='nyc-taxi-regressor', run_id='bad7bfb0e73340a6bd111039cdfd4375', run_link='', source='/workspaces/mlops-zoom-camp/03-training/experiment_tracking/mlruns/1/bad7bfb0e73340a6bd111039cdfd4375/artifacts/model', status='READY', status_message=None, tags={}, user_id='', version='2'>"
      ]
     },
     "execution_count": 5,
     "metadata": {},
     "output_type": "execute_result"
    }
   ],
   "source": [
    "#Found the best runid and registered the model ran on that runid\n",
    "run_id = \"bad7bfb0e73340a6bd111039cdfd4375\"\n",
    "model_uri = f\"runs:/{run_id}/model\"\n",
    "mlflow.register_model(model_uri=model_uri, name=\"nyc-taxi-regressor\")"
   ]
  },
  {
   "cell_type": "code",
   "execution_count": 8,
   "id": "d7ae5a2a",
   "metadata": {},
   "outputs": [
    {
     "name": "stdout",
     "output_type": "stream",
     "text": [
      "Version: 2, Status: READY, Stage: None\n",
      "Version: 1, Status: READY, Stage: None\n"
     ]
    }
   ],
   "source": [
    "model_name = \"nyc-taxi-regressor\"\n",
    "\n",
    "\n",
    "# Fetch all versions of the model\n",
    "versions = client.search_model_versions(f\"name='{model_name}'\")\n",
    "\n",
    "for v in versions:\n",
    "    print(f\"Version: {v.version}, Status: {v.status}, Stage: {v.current_stage}\")\n"
   ]
  },
  {
   "cell_type": "code",
   "execution_count": 12,
   "id": "4f271f73",
   "metadata": {},
   "outputs": [
    {
     "data": {
      "text/plain": [
       "<ModelVersion: aliases=[], creation_timestamp=1747125264621, current_stage='None', description='Promoted to staging after evaluation', last_updated_timestamp=1747127687704, name='nyc-taxi-regressor', run_id='bad7bfb0e73340a6bd111039cdfd4375', run_link='', source='/workspaces/mlops-zoom-camp/03-training/experiment_tracking/mlruns/1/bad7bfb0e73340a6bd111039cdfd4375/artifacts/model', status='READY', status_message=None, tags={'promoted_to': 'staging'}, user_id='', version='2'>"
      ]
     },
     "execution_count": 12,
     "metadata": {},
     "output_type": "execute_result"
    }
   ],
   "source": [
    "from mlflow.tracking import MlflowClient\n",
    "\n",
    "client = MlflowClient()\n",
    "model_name = \"nyc-taxi-regressor\"\n",
    "model_version = \"2\"\n",
    "\n",
    "# Set a tag to indicate stage (e.g., \"promoted_to\" or \"status\")\n",
    "client.set_model_version_tag(\n",
    "    name=model_name,\n",
    "    version=model_version,\n",
    "    key=\"promoted_to\",\n",
    "    value=\"staging\"\n",
    ")\n",
    "\n",
    "# Optionally, update description\n",
    "client.update_model_version(\n",
    "    name=model_name,\n",
    "    version=model_version,\n",
    "    description=\"Promoted to staging after evaluation\"\n",
    ")\n"
   ]
  },
  {
   "cell_type": "code",
   "execution_count": 13,
   "id": "bb14234b",
   "metadata": {},
   "outputs": [],
   "source": [
    "#Testing if prod model is woking fine with latest data if yes it will be there else it will be replaced\n",
    "\n",
    "from sklearn.metrics import mean_squared_error\n",
    "import pandas as pd\n",
    "\n",
    "def read_dataframe(filename):\n",
    "    df = pd.read_parquet(filename,engine='pyarrow')\n",
    "\n",
    "    df.lpep_dropoff_datetime = pd.to_datetime(df.lpep_dropoff_datetime)\n",
    "    df.lpep_pickup_datetime = pd.to_datetime(df.lpep_pickup_datetime)\n",
    "\n",
    "    df['duration'] = df.lpep_dropoff_datetime - df.lpep_pickup_datetime\n",
    "    df.duration = df.duration.apply(lambda td: td.total_seconds() / 60)\n",
    "\n",
    "    df = df[(df.duration >= 1) & (df.duration <= 60)]\n",
    "\n",
    "    categorical = ['PULocationID', 'DOLocationID']\n",
    "    df[categorical] = df[categorical].astype(str)\n",
    "    \n",
    "    return df\n",
    "\n",
    "def preprocess(df, dv):\n",
    "    df['PU_DO'] = df['PULocationID'] + '_' + df['DOLocationID']\n",
    "    categorical = ['PU_DO']\n",
    "    numerical = ['trip_distance']\n",
    "    train_dicts = df[categorical + numerical].to_dict(orient='records')\n",
    "    return dv.transfrom(train_dicts)\n",
    "\n",
    "\n",
    "def test_model(stage, X_test, y_test, name='nyc-taxi-regressor'):\n",
    "    model = mlflow.pfunc.load_model(f\"models/{name}/{stage}\")\n",
    "    y_pred = model.predict(X_test)\n",
    "    return {\"rmse\": mean_squared_error(y_test,y_pred, squared=False)}\n"
   ]
  },
  {
   "cell_type": "code",
   "execution_count": 14,
   "id": "0d54ab87",
   "metadata": {},
   "outputs": [],
   "source": [
    "df= read_dataframe('./data/green_tripdata_2021-02.parquet')\n",
    "\n"
   ]
  },
  {
   "cell_type": "code",
   "execution_count": null,
   "id": "9ede819b",
   "metadata": {},
   "outputs": [],
   "source": [
    "client.download_artifacts(run_id=run_id)"
   ]
  }
 ],
 "metadata": {
  "kernelspec": {
   "display_name": "Python 3",
   "language": "python",
   "name": "python3"
  },
  "language_info": {
   "codemirror_mode": {
    "name": "ipython",
    "version": 3
   },
   "file_extension": ".py",
   "mimetype": "text/x-python",
   "name": "python",
   "nbconvert_exporter": "python",
   "pygments_lexer": "ipython3",
   "version": "3.9.21"
  }
 },
 "nbformat": 4,
 "nbformat_minor": 5
}
