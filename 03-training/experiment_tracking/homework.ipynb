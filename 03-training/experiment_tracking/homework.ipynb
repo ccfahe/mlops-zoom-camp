{
 "cells": [
  {
   "cell_type": "code",
   "execution_count": 1,
   "id": "f2a9ffd5",
   "metadata": {},
   "outputs": [
    {
     "name": "stdout",
     "output_type": "stream",
     "text": [
      "2.22.0\n"
     ]
    }
   ],
   "source": [
    "#Q1. Install MLflow\n",
    "import mlflow\n",
    "print(mlflow.__version__)"
   ]
  },
  {
   "cell_type": "code",
   "execution_count": 2,
   "id": "51441dfd",
   "metadata": {},
   "outputs": [
    {
     "name": "stdout",
     "output_type": "stream",
     "text": [
      "--2025-05-14 16:21:38--  https://d37ci6vzurychx.cloudfront.net/trip-data/green_tripdata_2023-02.parquet\n",
      "Resolving d37ci6vzurychx.cloudfront.net (d37ci6vzurychx.cloudfront.net)... 3.164.82.112, 3.164.82.197, 3.164.82.160, ...\n",
      "Connecting to d37ci6vzurychx.cloudfront.net (d37ci6vzurychx.cloudfront.net)|3.164.82.112|:443... connected.\n",
      "HTTP request sent, awaiting response... 200 OK\n",
      "Length: 1533740 (1.5M) [binary/octet-stream]\n",
      "Saving to: ‘data/green_tripdata_2023-02.parquet.1’\n",
      "\n",
      "green_tripdata_2023 100%[===================>]   1.46M  2.40MB/s    in 0.6s    \n",
      "\n",
      "2025-05-14 16:21:39 (2.40 MB/s) - ‘data/green_tripdata_2023-02.parquet.1’ saved [1533740/1533740]\n",
      "\n"
     ]
    }
   ],
   "source": [
    "#Q2. Download and preprocess the data\n",
    "!wget -P data https://d37ci6vzurychx.cloudfront.net/trip-data/green_tripdata_2023-02.parquet "
   ]
  },
  {
   "cell_type": "code",
   "execution_count": 3,
   "id": "b12ce563",
   "metadata": {},
   "outputs": [
    {
     "name": "stdout",
     "output_type": "stream",
     "text": [
      "--2025-05-14 16:21:40--  https://d37ci6vzurychx.cloudfront.net/trip-data/green_tripdata_2023-01.parquet\n",
      "Resolving d37ci6vzurychx.cloudfront.net (d37ci6vzurychx.cloudfront.net)... 3.164.82.112, 3.164.82.197, 3.164.82.160, ...\n",
      "Connecting to d37ci6vzurychx.cloudfront.net (d37ci6vzurychx.cloudfront.net)|3.164.82.112|:443... connected.\n",
      "HTTP request sent, awaiting response... 200 OK\n",
      "Length: 1427002 (1.4M) [binary/octet-stream]\n",
      "Saving to: ‘data/green_tripdata_2023-01.parquet.1’\n",
      "\n",
      "green_tripdata_2023 100%[===================>]   1.36M  2.25MB/s    in 0.6s    \n",
      "\n",
      "2025-05-14 16:21:41 (2.25 MB/s) - ‘data/green_tripdata_2023-01.parquet.1’ saved [1427002/1427002]\n",
      "\n"
     ]
    }
   ],
   "source": [
    "!wget -P data https://d37ci6vzurychx.cloudfront.net/trip-data/green_tripdata_2023-01.parquet "
   ]
  },
  {
   "cell_type": "code",
   "execution_count": 4,
   "id": "24fca430",
   "metadata": {},
   "outputs": [
    {
     "name": "stdout",
     "output_type": "stream",
     "text": [
      "--2025-05-14 16:21:41--  https://d37ci6vzurychx.cloudfront.net/trip-data/green_tripdata_2023-03.parquet\n",
      "Resolving d37ci6vzurychx.cloudfront.net (d37ci6vzurychx.cloudfront.net)... 3.164.82.197, 3.164.82.40, 3.164.82.112, ...\n",
      "Connecting to d37ci6vzurychx.cloudfront.net (d37ci6vzurychx.cloudfront.net)|3.164.82.197|:443... connected.\n",
      "HTTP request sent, awaiting response... 200 OK\n",
      "Length: 1730999 (1.7M) [binary/octet-stream]\n",
      "Saving to: ‘data/green_tripdata_2023-03.parquet.1’\n",
      "\n",
      "green_tripdata_2023 100%[===================>]   1.65M  2.67MB/s    in 0.6s    \n",
      "\n",
      "2025-05-14 16:21:42 (2.67 MB/s) - ‘data/green_tripdata_2023-03.parquet.1’ saved [1730999/1730999]\n",
      "\n"
     ]
    }
   ],
   "source": [
    "!wget -P data https://d37ci6vzurychx.cloudfront.net/trip-data/green_tripdata_2023-03.parquet"
   ]
  },
  {
   "cell_type": "code",
   "execution_count": 5,
   "id": "ed154a4f",
   "metadata": {},
   "outputs": [],
   "source": [
    "!python preprocess_data.py --raw_data_path data --dest_path ./output\n"
   ]
  },
  {
   "cell_type": "code",
   "execution_count": null,
   "id": "4a930ad8",
   "metadata": {},
   "outputs": [],
   "source": [
    "####Q4. Launch the tracking server locally"
   ]
  },
  {
   "cell_type": "markdown",
   "id": "da5a4ed3",
   "metadata": {},
   "source": [
    "<h1>4 files in output folder<h1>"
   ]
  },
  {
   "cell_type": "code",
   "execution_count": null,
   "id": "252f46ae",
   "metadata": {},
   "outputs": [
    {
     "name": "stdout",
     "output_type": "stream",
     "text": [
      "Validation RMSE: 5.431162180141208\n"
     ]
    }
   ],
   "source": []
  },
  {
   "cell_type": "code",
   "execution_count": 7,
   "id": "7d7ac4e2",
   "metadata": {},
   "outputs": [
    {
     "name": "stdout",
     "output_type": "stream",
     "text": [
      "Collecting scipy\n",
      "  Downloading scipy-1.13.1-cp39-cp39-manylinux_2_17_x86_64.manylinux2014_x86_64.whl.metadata (60 kB)\n",
      "Collecting numpy<2.3,>=1.22.4 (from scipy)\n",
      "  Downloading numpy-2.0.2-cp39-cp39-manylinux_2_17_x86_64.manylinux2014_x86_64.whl.metadata (60 kB)\n",
      "Downloading scipy-1.13.1-cp39-cp39-manylinux_2_17_x86_64.manylinux2014_x86_64.whl (38.6 MB)\n",
      "\u001b[2K   \u001b[90m━━━━━━━━━━━━━━━━━━━━━━━━━━━━━━━━━━━━━━━━\u001b[0m \u001b[32m38.6/38.6 MB\u001b[0m \u001b[31m64.4 MB/s\u001b[0m eta \u001b[36m0:00:00\u001b[0ma \u001b[36m0:00:01\u001b[0m\n",
      "\u001b[?25hDownloading numpy-2.0.2-cp39-cp39-manylinux_2_17_x86_64.manylinux2014_x86_64.whl (19.5 MB)\n",
      "\u001b[2K   \u001b[90m━━━━━━━━━━━━━━━━━━━━━━━━━━━━━━━━━━━━━━━━\u001b[0m \u001b[32m19.5/19.5 MB\u001b[0m \u001b[31m89.0 MB/s\u001b[0m eta \u001b[36m0:00:00\u001b[0ma \u001b[36m0:00:01\u001b[0m\n",
      "\u001b[?25hInstalling collected packages: numpy, scipy\n",
      "\u001b[2K  Attempting uninstall: numpy\n",
      "\u001b[2K    Found existing installation: numpy 2.0.2\n",
      "\u001b[2K    Uninstalling numpy-2.0.2:\n",
      "\u001b[2K      Successfully uninstalled numpy-2.0.2\n",
      "\u001b[2K  Attempting uninstall: scipy━━━━━━━━━━━━━━━━━━━\u001b[0m \u001b[32m0/2\u001b[0m [numpy]\n",
      "\u001b[2K    Found existing installation: scipy 1.13.1[0m \u001b[32m0/2\u001b[0m [numpy]\n",
      "\u001b[2K    Uninstalling scipy-1.13.1:0m\u001b[90m╺\u001b[0m\u001b[90m━━━━━━━━━━━━━━━━━━━\u001b[0m \u001b[32m1/2\u001b[0m [scipy]\n",
      "\u001b[2K      Successfully uninstalled scipy-1.13.1━━━━━━━━━━━━━━━━━━━\u001b[0m \u001b[32m1/2\u001b[0m [scipy]\n",
      "\u001b[2K   \u001b[90m━━━━━━━━━━━━━━━━━━━━━━━━━━━━━━━━━━━━━━━━\u001b[0m \u001b[32m2/2\u001b[0m [scipy]32m1/2\u001b[0m [scipy]\n",
      "\u001b[1A\u001b[2KSuccessfully installed numpy-2.0.2 scipy-1.13.1\n"
     ]
    }
   ],
   "source": [
    "!pip install --force-reinstall --no-cache-dir scipy\n"
   ]
  },
  {
   "cell_type": "code",
   "execution_count": 23,
   "id": "2390b269",
   "metadata": {},
   "outputs": [],
   "source": [
    "!python train.py --data_path output/"
   ]
  },
  {
   "cell_type": "code",
   "execution_count": 24,
   "id": "bec9128d",
   "metadata": {},
   "outputs": [
    {
     "name": "stdout",
     "output_type": "stream",
     "text": [
      "100%|██████████| 15/15 [01:01<00:00,  4.12s/trial, best loss: 5.335419588556921]\n"
     ]
    }
   ],
   "source": [
    "!python hpo.py"
   ]
  },
  {
   "cell_type": "code",
   "execution_count": null,
   "id": "cf4888db",
   "metadata": {},
   "outputs": [],
   "source": [
    "#Q5. Tune model hyperparameters\n",
    "4.817\n",
    "5.335\n",
    "5.818\n",
    "6.336\n",
    "\n",
    "\n",
    "\n",
    "##Answer:5.335\n"
   ]
  },
  {
   "cell_type": "code",
   "execution_count": 27,
   "id": "9daa6bd3",
   "metadata": {},
   "outputs": [
    {
     "name": "stdout",
     "output_type": "stream",
     "text": [
      "Traceback (most recent call last):\n",
      "  File \"/workspaces/mlops-zoom-camp/03-training/experiment_tracking/register_model.py\", line 102, in <module>\n",
      "    run_register_model()\n",
      "  File \"/home/codespace/anaconda3/envs/exp-tracking-env/lib/python3.9/site-packages/click/core.py\", line 1161, in __call__\n",
      "    return self.main(*args, **kwargs)\n",
      "  File \"/home/codespace/anaconda3/envs/exp-tracking-env/lib/python3.9/site-packages/click/core.py\", line 1082, in main\n",
      "    rv = self.invoke(ctx)\n",
      "  File \"/home/codespace/anaconda3/envs/exp-tracking-env/lib/python3.9/site-packages/click/core.py\", line 1443, in invoke\n",
      "    return ctx.invoke(self.callback, **ctx.params)\n",
      "  File \"/home/codespace/anaconda3/envs/exp-tracking-env/lib/python3.9/site-packages/click/core.py\", line 788, in invoke\n",
      "    return __callback(*args, **kwargs)\n",
      "  File \"/workspaces/mlops-zoom-camp/03-training/experiment_tracking/register_model.py\", line 94, in run_register_model\n",
      "    print(f\"Registering model from run_id={run_id} with test_rmse={best_run.data.metrics['test_rmse']}\")\n",
      "KeyError: 'test_rmse'\n"
     ]
    }
   ],
   "source": [
    "#Q5 \n",
    "\n",
    "!python register_model.py "
   ]
  },
  {
   "cell_type": "markdown",
   "id": "18be5ffd",
   "metadata": {},
   "source": [
    "<h1>5.060 <h1>\n"
   ]
  },
  {
   "cell_type": "markdown",
   "id": "0e0e7696",
   "metadata": {},
   "source": [
    "server cras"
   ]
  }
 ],
 "metadata": {
  "kernelspec": {
   "display_name": "Python 3",
   "language": "python",
   "name": "python3"
  },
  "language_info": {
   "codemirror_mode": {
    "name": "ipython",
    "version": 3
   },
   "file_extension": ".py",
   "mimetype": "text/x-python",
   "name": "python",
   "nbconvert_exporter": "python",
   "pygments_lexer": "ipython3",
   "version": "3.9.21"
  }
 },
 "nbformat": 4,
 "nbformat_minor": 5
}
