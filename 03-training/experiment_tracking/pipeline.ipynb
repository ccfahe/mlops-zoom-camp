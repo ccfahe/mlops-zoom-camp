{
 "cells": [
  {
   "cell_type": "code",
   "execution_count": 2,
   "id": "89a0c437",
   "metadata": {},
   "outputs": [
    {
     "name": "stdout",
     "output_type": "stream",
     "text": [
      "Python 3.9.21\n"
     ]
    }
   ],
   "source": [
    "!python -V"
   ]
  },
  {
   "cell_type": "code",
   "execution_count": 3,
   "id": "46d370c3",
   "metadata": {},
   "outputs": [
    {
     "data": {
      "text/plain": [
       "<Experiment: artifact_location='/workspaces/mlops-zoom-camp/03-training/experiment_tracking/mlruns/1', creation_time=1746683774913, experiment_id='1', last_update_time=1746683774913, lifecycle_stage='active', name='ny-taxi-experiment', tags={}>"
      ]
     },
     "execution_count": 3,
     "metadata": {},
     "output_type": "execute_result"
    }
   ],
   "source": [
    "import mlflow\n",
    "mlflow.set_tracking_uri(\"sqlite:///mlflow.db\") \n",
    "mlflow.set_experiment(\"ny-taxi-experiment\")"
   ]
  },
  {
   "cell_type": "code",
   "execution_count": 4,
   "id": "adb08382",
   "metadata": {},
   "outputs": [],
   "source": [
    "#install pyarrow to read parquet file\n",
    "\n",
    "#!pip install pyarrow"
   ]
  },
  {
   "cell_type": "code",
   "execution_count": 5,
   "id": "0ca457c8",
   "metadata": {},
   "outputs": [],
   "source": [
    "import pandas as pd\n",
    "import seaborn as sns\n",
    "import matplotlib.pyplot as plt\n",
    "import pickle\n",
    "import numpy as np\n",
    "\n",
    "from sklearn.feature_extraction import DictVectorizer\n",
    "from sklearn.linear_model import LinearRegression\n",
    "from sklearn.linear_model import Lasso\n",
    "from sklearn.linear_model import Ridge\n",
    "\n",
    "from sklearn.metrics import mean_squared_error\n",
    "\n"
   ]
  },
  {
   "cell_type": "code",
   "execution_count": 6,
   "id": "9284fc3c",
   "metadata": {},
   "outputs": [],
   "source": [
    "#!wget -P data https://d37ci6vzurychx.cloudfront.net/trip-data/green_tripdata_2021-01.parquet "
   ]
  },
  {
   "cell_type": "code",
   "execution_count": 7,
   "id": "4fc502b6",
   "metadata": {},
   "outputs": [],
   "source": [
    "#!wget -P data https://d37ci6vzurychx.cloudfront.net/trip-data/green_tripdata_2021-02.parquet "
   ]
  },
  {
   "cell_type": "code",
   "execution_count": 8,
   "id": "65ff35c7",
   "metadata": {},
   "outputs": [],
   "source": [
    "def read_dataframe(filename):\n",
    "    df = pd.read_parquet(filename,engine='pyarrow')\n",
    "\n",
    "    df.lpep_dropoff_datetime = pd.to_datetime(df.lpep_dropoff_datetime)\n",
    "    df.lpep_pickup_datetime = pd.to_datetime(df.lpep_pickup_datetime)\n",
    "\n",
    "    df['duration'] = df.lpep_dropoff_datetime - df.lpep_pickup_datetime\n",
    "    df.duration = df.duration.apply(lambda td: td.total_seconds() / 60)\n",
    "\n",
    "    df = df[(df.duration >= 1) & (df.duration <= 60)]\n",
    "\n",
    "    categorical = ['PULocationID', 'DOLocationID']\n",
    "    df[categorical] = df[categorical].astype(str)\n",
    "    \n",
    "    return df"
   ]
  },
  {
   "cell_type": "code",
   "execution_count": 9,
   "id": "6bab1913",
   "metadata": {},
   "outputs": [],
   "source": [
    "\n",
    "\n",
    "df_train = read_dataframe('./data/green_tripdata_2021-02.parquet')\n",
    "df_val = read_dataframe('./data/green_tripdata_2021-01.parquet')\n"
   ]
  },
  {
   "cell_type": "code",
   "execution_count": 10,
   "id": "013252c6",
   "metadata": {},
   "outputs": [],
   "source": [
    "df_train['PU_DO'] = df_train['PULocationID'].astype(str) + '_' + df_train['DOLocationID'].astype(str)\n",
    "df_val['PU_DO'] = df_val['PULocationID'].astype(str) + '_' + df_val['DOLocationID'].astype(str)\n"
   ]
  },
  {
   "cell_type": "code",
   "execution_count": 11,
   "id": "06482512",
   "metadata": {},
   "outputs": [],
   "source": [
    "categorical = ['PU_DO'] #'PULocationID', 'DOLocationID']\n",
    "numerical = ['trip_distance']\n",
    "\n",
    "dv = DictVectorizer()\n",
    "\n",
    "train_dicts = df_train[categorical + numerical].to_dict(orient='records')\n",
    "X_train = dv.fit_transform(train_dicts)\n",
    "\n",
    "val_dicts = df_val[categorical + numerical].to_dict(orient='records')\n",
    "X_val = dv.transform(val_dicts)\n"
   ]
  },
  {
   "cell_type": "code",
   "execution_count": 12,
   "id": "faf3f374",
   "metadata": {},
   "outputs": [],
   "source": [
    "target = 'duration'\n",
    "y_train = df_train[target].values\n",
    "y_val = df_val[target].values\n"
   ]
  },
  {
   "cell_type": "code",
   "execution_count": 13,
   "id": "629ceaa5",
   "metadata": {},
   "outputs": [
    {
     "data": {
      "text/plain": [
       "50.01983345993515"
      ]
     },
     "execution_count": 13,
     "metadata": {},
     "output_type": "execute_result"
    }
   ],
   "source": [
    "lr = LinearRegression()\n",
    "lr.fit(X_train, y_train)\n",
    "\n",
    "y_pred = lr.predict(X_val)\n",
    "\n",
    "mean_squared_error(y_val, y_pred)\n"
   ]
  },
  {
   "cell_type": "code",
   "execution_count": 14,
   "id": "4e722463",
   "metadata": {},
   "outputs": [],
   "source": [
    "#Upload model to the model folder dv is data set vectoried and ltr is model\n",
    "with open('models/lin_reg.bin', 'wb') as f_out:\n",
    "    pickle.dump((dv, lr), f_out)\n"
   ]
  },
  {
   "cell_type": "code",
   "execution_count": 15,
   "id": "1e28fbfb",
   "metadata": {},
   "outputs": [],
   "source": [
    "with mlflow.start_run():\n",
    "    mlflow.set_tag(\"developer\", \"Shakti\")\n",
    "    mlflow.log_param(\"train-data-path\", \"./data/green_tripdata_2021-02.parquet\")\n",
    "    mlflow.log_param(\"valid-data-path\", \"./data/green_tripdata_2021-01.parque\")\n",
    "    alpha = 0.1\n",
    "    mlflow.log_param(\"alpha\",alpha)\n",
    "\n",
    "\n",
    "\n",
    "    lr = Lasso(alpha)\n",
    "    lr.fit(X_train, y_train)\n",
    "    y_pred = lr.predict(X_val)\n",
    "\n",
    "    rmse= mean_squared_error(y_val, y_pred)\n",
    "    mlflow.log_param(\"rmse\",rmse)\n",
    "    mlflow.log_artifact(\"models/lin_reg.bin\", artifact_path=\"models_pickle\")\n",
    "\n",
    "\n",
    "\n"
   ]
  },
  {
   "cell_type": "code",
   "execution_count": 16,
   "id": "4a2b61be",
   "metadata": {},
   "outputs": [],
   "source": [
    "import xgboost as xgb\n",
    "\n",
    "#hyperopt used to find best parameters\n",
    "from hyperopt import fmin, tpe, hp, STATUS_OK, Trials\n",
    "from hyperopt.pyll import scope"
   ]
  },
  {
   "cell_type": "code",
   "execution_count": 17,
   "id": "677aa5b0",
   "metadata": {},
   "outputs": [],
   "source": [
    "train = xgb.DMatrix(X_train, label=y_train)\n",
    "valid = xgb.DMatrix(X_val, label=y_val)"
   ]
  },
  {
   "cell_type": "code",
   "execution_count": 18,
   "id": "6c0b30c2",
   "metadata": {},
   "outputs": [],
   "source": [
    "\n",
    "\n",
    "def objective(params):\n",
    "    with mlflow.start_run():\n",
    "         mlflow.set_tag(\"model\", \"xgboost\")\n",
    "         mlflow.log_params(params)\n",
    "         booster = xgb.train(\n",
    "              params=params,\n",
    "              dtrain=train,\n",
    "              num_boost_round=1000,\n",
    "              evals=[(valid, \"validation\")],\n",
    "              early_stopping_rounds=50\n",
    "         )\n",
    "\n",
    "         y_pred = booster.predict(valid)\n",
    "         rmse = mean_squared_error(y_val, y_pred) ** 0.5\n",
    "         mlflow.log_metric(\"rmse\", rmse)\n",
    "\n",
    "    return {'loss': rmse, 'status': STATUS_OK}\n",
    "\n"
   ]
  },
  {
   "cell_type": "markdown",
   "id": "67b70f27",
   "metadata": {},
   "source": [
    "\n",
    "search_space = {\n",
    "    'max_depth': scope.int(hp.quniform('max_depth', 4, 100, 1)),\n",
    "    'learning_rate': hp.loguniform('learning_rate', -3, 0),\n",
    "    'reg_alpha': hp.loguniform('reg_alpha', -5, -1),\n",
    "    'reg_lambda': hp.loguniform('reg_lambda', -6, -1),\n",
    "    'min_child_weight': hp.loguniform('min_child_weight', -1, 3),\n",
    "    'objective': 'reg:linear',\n",
    "    'seed':42,\n",
    "}\n",
    "\n",
    "best_result = fmin(\n",
    "    fn=objective,\n",
    "    space=search_space,\n",
    "    algo=tpe.suggest,\n",
    "    max_evals=50,\n",
    "    trials=Trials())\n",
    "\n"
   ]
  },
  {
   "cell_type": "code",
   "execution_count": null,
   "id": "65a8fb18",
   "metadata": {},
   "outputs": [
    {
     "name": "stderr",
     "output_type": "stream",
     "text": [
      "/home/codespace/anaconda3/envs/exp-tracking-env/lib/python3.9/site-packages/xgboost/core.py:158: UserWarning: [17:25:33] WARNING: /workspace/src/objective/regression_obj.cu:227: reg:linear is now deprecated in favor of reg:squarederror.\n",
      "  warnings.warn(smsg, UserWarning)\n"
     ]
    },
    {
     "name": "stdout",
     "output_type": "stream",
     "text": [
      "[0]\tvalidation-rmse:10.79321\n",
      "[1]\tvalidation-rmse:10.07803\n",
      "[2]\tvalidation-rmse:9.45202\n",
      "[3]\tvalidation-rmse:8.90457\n",
      "[4]\tvalidation-rmse:8.43150\n",
      "[5]\tvalidation-rmse:8.02212\n",
      "[6]\tvalidation-rmse:7.67306\n",
      "[7]\tvalidation-rmse:7.37425\n",
      "[8]\tvalidation-rmse:7.12181\n",
      "[9]\tvalidation-rmse:6.90909\n"
     ]
    },
    {
     "name": "stderr",
     "output_type": "stream",
     "text": [
      "/home/codespace/anaconda3/envs/exp-tracking-env/lib/python3.9/site-packages/xgboost/core.py:158: UserWarning: [17:25:42] WARNING: /workspace/src/c_api/c_api.cc:1374: Saving model in the UBJSON format as default.  You can use file extension: `json`, `ubj` or `deprecated` to choose between formats.\n",
      "  warnings.warn(smsg, UserWarning)\n",
      "\u001b[31m2025/05/10 17:25:46 WARNING mlflow.models.model: Model logged without a signature and input example. Please set `input_example` parameter when logging the model to auto infer the model signature.\u001b[0m\n"
     ]
    }
   ],
   "source": [
    "#Choose best parameters from mlflow by uisng lowest rmse and less training time  \n",
    "#logging best params\n",
    "import mlflow.xgboost\n",
    "\n",
    "\n",
    "with mlflow.start_run():\n",
    "\n",
    "    params = {\n",
    "        'learning_rate': 0.09064205157889488,\n",
    "        'max_depth': 22,\n",
    "        'min_child_weight': 1.0629059550227644,\n",
    "        'objective': 'reg:linear',  # consider using 'reg:squarederror' if using newer XGBoost\n",
    "        'reg_alpha': 0.13507272239403997,\n",
    "        'reg_lambda': 0.01337017283417198,\n",
    "        'seed': 42\n",
    "    }\n",
    "\n",
    "#Autolog to get all logs without much code\n",
    "\n",
    "\n",
    "    mlflow.set_tag(\"model\", \"xgboost\")\n",
    "    mlflow.log_params(params)\n",
    "    booster=xgb.train(\n",
    "            params=params,\n",
    "            dtrain=train,\n",
    "            num_boost_round=100,\n",
    "            evals=[(valid,\"validation\")],\n",
    "            early_stopping_rounds=50\n",
    "            \n",
    "        )    \n",
    "    y_pred = booster.predict(valid)\n",
    "    rmse = mean_squared_error(y_val, y_pred) ** 0.5\n",
    "    mlflow.log_metric(\"rmse\", rmse)\n",
    "\n",
    "\n",
    "    with open(\"models/preprocessor.b\", \"wb\") as f_out:\n",
    "        pickle.dump(dv, f_out)\n",
    "    mlflow.log_artifact(\"models/preprocessor.b\", artifact_path=\"preprocessor\")\n",
    "    mlflow.xgboost.log_model(booster,artifact_path=\"models_mlflow\")\n",
    "\n",
    "\n"
   ]
  },
  {
   "cell_type": "code",
   "execution_count": null,
   "id": "aa53b71e",
   "metadata": {},
   "outputs": [],
   "source": []
  }
 ],
 "metadata": {
  "kernelspec": {
   "display_name": "Python 3",
   "language": "python",
   "name": "python3"
  },
  "language_info": {
   "codemirror_mode": {
    "name": "ipython",
    "version": 3
   },
   "file_extension": ".py",
   "mimetype": "text/x-python",
   "name": "python",
   "nbconvert_exporter": "python",
   "pygments_lexer": "ipython3",
   "version": "3.9.21"
  }
 },
 "nbformat": 4,
 "nbformat_minor": 5
}
