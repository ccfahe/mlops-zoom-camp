{
 "cells": [
  {
   "cell_type": "code",
   "execution_count": 1,
   "id": "89a0c437",
   "metadata": {},
   "outputs": [
    {
     "name": "stdout",
     "output_type": "stream",
     "text": [
      "Python 3.9.21\n"
     ]
    }
   ],
   "source": [
    "!python -V"
   ]
  },
  {
   "cell_type": "code",
   "execution_count": 2,
   "id": "46d370c3",
   "metadata": {},
   "outputs": [
    {
     "data": {
      "text/plain": [
       "<Experiment: artifact_location='/workspaces/mlops-zoom-camp/03-training/experiment_tracking/mlruns/1', creation_time=1746683774913, experiment_id='1', last_update_time=1746683774913, lifecycle_stage='active', name='ny-taxi-experiment', tags={}>"
      ]
     },
     "execution_count": 2,
     "metadata": {},
     "output_type": "execute_result"
    }
   ],
   "source": [
    "import mlflow\n",
    "mlflow.set_tracking_uri(\"sqlite:///mlflow.db\") \n",
    "mlflow.set_experiment(\"ny-taxi-experiment\")"
   ]
  },
  {
   "cell_type": "code",
   "execution_count": 3,
   "id": "adb08382",
   "metadata": {},
   "outputs": [],
   "source": [
    "#install pyarrow to read parquet file\n",
    "\n",
    "#!pip install pyarrow"
   ]
  },
  {
   "cell_type": "code",
   "execution_count": 4,
   "id": "0ca457c8",
   "metadata": {},
   "outputs": [],
   "source": [
    "import pandas as pd\n",
    "import seaborn as sns\n",
    "import matplotlib.pyplot as plt\n",
    "import pickle\n",
    "import numpy as np\n",
    "\n",
    "from sklearn.feature_extraction import DictVectorizer\n",
    "from sklearn.linear_model import LinearRegression\n",
    "from sklearn.linear_model import Lasso\n",
    "from sklearn.linear_model import Ridge\n",
    "\n",
    "from sklearn.metrics import mean_squared_error\n",
    "\n"
   ]
  },
  {
   "cell_type": "code",
   "execution_count": 5,
   "id": "9284fc3c",
   "metadata": {},
   "outputs": [],
   "source": [
    "#!wget -P data https://d37ci6vzurychx.cloudfront.net/trip-data/green_tripdata_2021-01.parquet "
   ]
  },
  {
   "cell_type": "code",
   "execution_count": 6,
   "id": "4fc502b6",
   "metadata": {},
   "outputs": [],
   "source": [
    "#!wget -P data https://d37ci6vzurychx.cloudfront.net/trip-data/green_tripdata_2021-02.parquet "
   ]
  },
  {
   "cell_type": "code",
   "execution_count": 14,
   "id": "65ff35c7",
   "metadata": {},
   "outputs": [],
   "source": [
    "def read_dataframe(filename):\n",
    "    df = pd.read_parquet(filename,engine='pyarrow')\n",
    "\n",
    "    df.lpep_dropoff_datetime = pd.to_datetime(df.lpep_dropoff_datetime)\n",
    "    df.lpep_pickup_datetime = pd.to_datetime(df.lpep_pickup_datetime)\n",
    "\n",
    "    df['duration'] = df.lpep_dropoff_datetime - df.lpep_pickup_datetime\n",
    "    df.duration = df.duration.apply(lambda td: td.total_seconds() / 60)\n",
    "\n",
    "    df = df[(df.duration >= 1) & (df.duration <= 60)]\n",
    "\n",
    "    categorical = ['PULocationID', 'DOLocationID']\n",
    "    df[categorical] = df[categorical].astype(str)\n",
    "    \n",
    "    return df"
   ]
  },
  {
   "cell_type": "code",
   "execution_count": 16,
   "id": "6bab1913",
   "metadata": {},
   "outputs": [],
   "source": [
    "\n",
    "\n",
    "df_train = read_dataframe('./data/green_tripdata_2021-02.parquet')\n",
    "df_val = read_dataframe('./data/green_tripdata_2021-01.parquet')\n"
   ]
  },
  {
   "cell_type": "code",
   "execution_count": 17,
   "id": "013252c6",
   "metadata": {},
   "outputs": [],
   "source": [
    "df_train['PU_DO'] = df_train['PULocationID'].astype(str) + '_' + df_train['DOLocationID'].astype(str)\n",
    "df_val['PU_DO'] = df_val['PULocationID'].astype(str) + '_' + df_val['DOLocationID'].astype(str)\n"
   ]
  },
  {
   "cell_type": "code",
   "execution_count": 18,
   "id": "06482512",
   "metadata": {},
   "outputs": [],
   "source": [
    "categorical = ['PU_DO'] #'PULocationID', 'DOLocationID']\n",
    "numerical = ['trip_distance']\n",
    "\n",
    "dv = DictVectorizer()\n",
    "\n",
    "train_dicts = df_train[categorical + numerical].to_dict(orient='records')\n",
    "X_train = dv.fit_transform(train_dicts)\n",
    "\n",
    "val_dicts = df_val[categorical + numerical].to_dict(orient='records')\n",
    "X_val = dv.transform(val_dicts)\n"
   ]
  },
  {
   "cell_type": "code",
   "execution_count": 19,
   "id": "faf3f374",
   "metadata": {},
   "outputs": [],
   "source": [
    "target = 'duration'\n",
    "y_train = df_train[target].values\n",
    "y_val = df_val[target].values\n"
   ]
  },
  {
   "cell_type": "code",
   "execution_count": 20,
   "id": "629ceaa5",
   "metadata": {},
   "outputs": [
    {
     "data": {
      "text/plain": [
       "50.01983345993515"
      ]
     },
     "execution_count": 20,
     "metadata": {},
     "output_type": "execute_result"
    }
   ],
   "source": [
    "lr = LinearRegression()\n",
    "lr.fit(X_train, y_train)\n",
    "\n",
    "y_pred = lr.predict(X_val)\n",
    "\n",
    "mean_squared_error(y_val, y_pred)\n"
   ]
  },
  {
   "cell_type": "code",
   "execution_count": 21,
   "id": "4e722463",
   "metadata": {},
   "outputs": [],
   "source": [
    "#Upload model to the model folder dv is data set vectoried and ltr is model\n",
    "with open('models/lin_reg.bin', 'wb') as f_out:\n",
    "    pickle.dump((dv, lr), f_out)\n"
   ]
  },
  {
   "cell_type": "code",
   "execution_count": 24,
   "id": "1e28fbfb",
   "metadata": {},
   "outputs": [],
   "source": [
    "with mlflow.start_run():\n",
    "    mlflow.set_tag(\"developer\", \"Shakti\")\n",
    "    mlflow.log_param(\"train-data-path\", \"./data/green_tripdata_2021-02.parquet\")\n",
    "    mlflow.log_param(\"valid-data-path\", \"./data/green_tripdata_2021-01.parque\")\n",
    "    alpha = 0.1\n",
    "    mlflow.log_param(\"alpha\",alpha)\n",
    "\n",
    "\n",
    "\n",
    "    lr = Lasso(alpha)\n",
    "    lr.fit(X_train, y_train)\n",
    "    y_pred = lr.predict(X_val)\n",
    "\n",
    "    rmse= mean_squared_error(y_val, y_pred)\n",
    "    mlflow.log_param(\"rmse\",rmse)\n"
   ]
  },
  {
   "cell_type": "code",
   "execution_count": null,
   "id": "6c0b30c2",
   "metadata": {},
   "outputs": [],
   "source": [
    "import xgboost as xgb\n",
    "\n",
    "#hyperopt used to find best parameters\n",
    "from hyperopt import fmin, tpe, hp, STATUS_OK, Trials\n",
    "from hyperopt.pyll import scope\n",
    "\n",
    "def objective(parsms):\n",
    "    with mlflow.start_run():\n",
    "         mlflow.set_tag(\"model\", \"xgboost\")\n",
    "         mlflow.log_params(params)\n",
    "         booster = xgb.train(\n",
    "              params=params,\n",
    "              dtrain=train,\n",
    "              num_boost_round=1000,\n",
    "              evals=[(valid, \"validation\")],\n",
    "              early_stopping_rounds=50\n",
    "         )\n"
   ]
  }
 ],
 "metadata": {
  "kernelspec": {
   "display_name": "Python 3",
   "language": "python",
   "name": "python3"
  },
  "language_info": {
   "codemirror_mode": {
    "name": "ipython",
    "version": 3
   },
   "file_extension": ".py",
   "mimetype": "text/x-python",
   "name": "python",
   "nbconvert_exporter": "python",
   "pygments_lexer": "ipython3",
   "version": "3.9.21"
  }
 },
 "nbformat": 4,
 "nbformat_minor": 5
}
